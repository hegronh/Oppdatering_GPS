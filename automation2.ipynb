{
 "cells": [
  {
   "cell_type": "code",
   "execution_count": 80,
   "id": "4525b17f",
   "metadata": {},
   "outputs": [],
   "source": [
    "#author Håkon Hegreberg\n",
    "import os\n",
    "import sys\n",
    "import time, datetime\n",
    "import arcpy\n",
    "from zipfile import ZipFile\n",
    "from login_utils import password, user\n",
    "from arcgis.gis import GIS\n",
    "from arcgis.features import FeatureLayerCollection\n",
    "from time import strftime\n",
    "from shutil import copyfile\n",
    "\n",
    "\n"
   ]
  },
  {
   "cell_type": "markdown",
   "id": "00712adf",
   "metadata": {},
   "source": [
    "Workspace\n"
   ]
  },
  {
   "cell_type": "code",
   "execution_count": 81,
   "id": "c91c5d28",
   "metadata": {},
   "outputs": [],
   "source": [
    "arcpy.env.workspace = \"C:/ProgramData/Anaconda3/envs/KDE/default.gdb\"\n",
    "arcpy.env.overwriteOutput = True\n",
    "\n",
    "#for å lage ny env\n",
    "#out_folder_path = \"C:/ProgramData/Anaconda3/envs/KDE\" \n",
    "#out_name = \"\"\n",
    "#arcpy.CreateFileGDB_management(out_folder_path, out_name)"
   ]
  },
  {
   "cell_type": "markdown",
   "id": "f9bbb619",
   "metadata": {},
   "source": [
    "# GPX TO shape and LINE\n"
   ]
  },
  {
   "cell_type": "code",
   "execution_count": 82,
   "id": "3ed06d2c",
   "metadata": {},
   "outputs": [
    {
     "name": "stdout",
     "output_type": "stream",
     "text": [
      "Failed to execute. Parameters are not valid.\n",
      "ERROR 000732: Input Features: Dataset C:\\Users\\hauke\\bacherlor2020\\gpxfiler\\14_04_2012_Skreia_Oppland_Norway (1).shp does not exist or is not supported\n",
      "Failed to execute (PointsToLine).\n",
      "\n",
      "Failed to execute. Parameters are not valid.\n",
      "ERROR 000732: Input Features: Dataset C:\\Users\\hauke\\bacherlor2020\\gpxfiler\\Afternoon_Ride (1).shp does not exist or is not supported\n",
      "Failed to execute (PointsToLine).\n",
      "\n",
      "Failed to execute. Parameters are not valid.\n",
      "ERROR 000732: Input Features: Dataset C:\\Users\\hauke\\bacherlor2020\\gpxfiler\\Afternoon_Ride (2).shp does not exist or is not supported\n",
      "Failed to execute (PointsToLine).\n",
      "\n",
      "Failed to execute. Parameters are not valid.\n",
      "ERROR 000732: Input Features: Dataset C:\\Users\\hauke\\bacherlor2020\\gpxfiler\\Afternoon_Ride (3).shp does not exist or is not supported\n",
      "Failed to execute (PointsToLine).\n",
      "\n",
      "Failed to execute. Parameters are not valid.\n",
      "ERROR 000732: Input Features: Dataset C:\\Users\\hauke\\bacherlor2020\\gpxfiler\\Afternoon_Ride (4).shp does not exist or is not supported\n",
      "Failed to execute (PointsToLine).\n",
      "\n",
      "Failed to execute. Parameters are not valid.\n",
      "ERROR 000732: Input Features: Dataset C:\\Users\\hauke\\bacherlor2020\\gpxfiler\\Afternoon_Ride (5).shp does not exist or is not supported\n",
      "Failed to execute (PointsToLine).\n",
      "\n",
      "Failed to execute. Parameters are not valid.\n",
      "ERROR 000732: Input Features: Dataset C:\\Users\\hauke\\bacherlor2020\\gpxfiler\\Afternoon_Ride (6).shp does not exist or is not supported\n",
      "Failed to execute (PointsToLine).\n",
      "\n",
      "Failed to execute. Parameters are not valid.\n",
      "ERROR 000732: Input Features: Dataset C:\\Users\\hauke\\bacherlor2020\\gpxfiler\\Afternoon_Ride (7).shp does not exist or is not supported\n",
      "Failed to execute (PointsToLine).\n",
      "\n",
      "Failed to execute. Parameters are not valid.\n",
      "ERROR 000732: Input Features: Dataset C:\\Users\\hauke\\bacherlor2020\\gpxfiler\\Afternoon_Ride (8).shp does not exist or is not supported\n",
      "Failed to execute (PointsToLine).\n",
      "\n",
      "Failed to execute. Parameters are not valid.\n",
      "ERROR 000732: Input Features: Dataset C:\\Users\\hauke\\bacherlor2020\\gpxfiler\\Evening_Ride (1).shp does not exist or is not supported\n",
      "Failed to execute (PointsToLine).\n",
      "\n",
      "Failed to execute. Parameters are not valid.\n",
      "ERROR 000732: Input Features: Dataset C:\\Users\\hauke\\bacherlor2020\\gpxfiler\\Evening_Ride (2).shp does not exist or is not supported\n",
      "Failed to execute (PointsToLine).\n",
      "\n",
      "Failed to execute. Parameters are not valid.\n",
      "ERROR 000732: Input Features: Dataset C:\\Users\\hauke\\bacherlor2020\\gpxfiler\\Evening_Ride (3).shp does not exist or is not supported\n",
      "Failed to execute (PointsToLine).\n",
      "\n",
      "Failed to execute. Parameters are not valid.\n",
      "ERROR 000732: Input Features: Dataset C:\\Users\\hauke\\bacherlor2020\\gpxfiler\\Evening_Ride (5).shp does not exist or is not supported\n",
      "Failed to execute (PointsToLine).\n",
      "\n",
      "Failed to execute. Parameters are not valid.\n",
      "ERROR 000732: Input Features: Dataset C:\\Users\\hauke\\bacherlor2020\\gpxfiler\\Evening_Ride (6).shp does not exist or is not supported\n",
      "Failed to execute (PointsToLine).\n",
      "\n",
      "Failed to execute. Parameters are not valid.\n",
      "ERROR 000732: Input Features: Dataset C:\\Users\\hauke\\bacherlor2020\\gpxfiler\\Evening_Ride (7).shp does not exist or is not supported\n",
      "Failed to execute (PointsToLine).\n",
      "\n",
      "Failed to execute. Parameters are not valid.\n",
      "ERROR 000732: Input Features: Dataset C:\\Users\\hauke\\bacherlor2020\\gpxfiler\\Lunch_Ride (1).shp does not exist or is not supported\n",
      "Failed to execute (PointsToLine).\n",
      "\n",
      "Failed to execute. Parameters are not valid.\n",
      "ERROR 000732: Input Features: Dataset C:\\Users\\hauke\\bacherlor2020\\gpxfiler\\Morning_Ride (1).shp does not exist or is not supported\n",
      "Failed to execute (PointsToLine).\n",
      "\n",
      "Failed to execute. Parameters are not valid.\n",
      "ERROR 000732: Input Features: Dataset C:\\Users\\hauke\\bacherlor2020\\gpxfiler\\Morning_Run (2).shp does not exist or is not supported\n",
      "Failed to execute (PointsToLine).\n",
      "\n",
      "finished all converting all gpx to shapefile\n"
     ]
    }
   ],
   "source": [
    "\n",
    "#f = r\"C:/Users/hauke/test/bachelor/f\"\n",
    "\n",
    "\n",
    "#GPX filer\n",
    "gpx_filepath = r\"C:\\Users\\hauke\\bacherlor2020\\gpxfiler\"\n",
    "\n",
    "\n",
    "\n",
    "lineField = \"\"\n",
    "sortField = \"\"\n",
    "\n",
    "gpx_list = os.listdir(gpx_filepath)\n",
    "\n",
    "for gpx_file in gpx_list:\n",
    "    if gpx_file.endswith(\".gpx\"):\n",
    "        full_gpx_path = os.path.join(gpx_filepath, gpx_file)\n",
    "        output_shapefile = os.path.splitext(full_gpx_path)[0] + \".shp\"\n",
    "        try:\n",
    "            arcpy.GPXtoFeatures_conversion(full_gpx_path, output_shapefile)\n",
    "        except Exepction as e:\n",
    "            print(e)\n",
    "        try:\n",
    "            arcpy.PointsToLine_management(output_shapefile, gpx_filepath + gpx_file, lineField, sortField)\n",
    "        except Exception as e:\n",
    "            print(e)\n",
    "\n",
    "    \n",
    "\n",
    "print(\"finished all converting all gpx to shapefile\")\n",
    "\n"
   ]
  },
  {
   "cell_type": "markdown",
   "id": "b66eed22",
   "metadata": {},
   "source": [
    "# Points to line"
   ]
  },
  {
   "cell_type": "code",
   "execution_count": 83,
   "id": "360c6979",
   "metadata": {
    "scrolled": true
   },
   "outputs": [],
   "source": [
    "\n",
    "#for shp_file in shp_list:\n",
    "#    if shp_file.endswith(\".shp\"):\n",
    "#        full_shp_path = os.path.join(shp_filepath, shp_file)\n",
    "#        output_shapefile1 = os.path.splitext(full_shp_path)[0] + \".shp\"\n",
    "#        #arcpy.PointsToLine_management(output_shapefile, gpx_filepath + shp_file, 'name')\n",
    "#        arcpy.PointsToLine_management(output_shapefile, gpx_filepath + gpx_file, lineField, sortField)\n",
    "#print(\"finished all converting points to lines\")\n",
    "    "
   ]
  },
  {
   "cell_type": "markdown",
   "id": "60a34a6f",
   "metadata": {},
   "source": [
    "\n",
    "# Merged Lines"
   ]
  },
  {
   "cell_type": "code",
   "execution_count": 84,
   "id": "7113bbdf",
   "metadata": {},
   "outputs": [
    {
     "data": {
      "text/html": [
       "<h2>Output</h2>C:\\Users\\hauke\\bacherlor2020\\merged_lines\\merged.shp<h2>Messages</h2>Start Time: lørdag 17. april 2021 10:14:59<br/>Succeeded at lørdag 17. april 2021 10:15:00 (Elapsed Time: 1,06 seconds)<br/><style>.rendered_html td, .rendered_html th {text-align: left;}.rendered_html tbody {border: 1px solid black;}</style>"
      ],
      "text/plain": [
       "<Result 'C:\\\\Users\\\\hauke\\\\bacherlor2020\\\\merged_lines\\\\merged.shp'>"
      ]
     },
     "execution_count": 84,
     "metadata": {},
     "output_type": "execute_result"
    }
   ],
   "source": [
    "\n",
    "arcpy.env.workspace = r\"C:\\Users\\hauke\\bacherlor2020\\linjer\"\n",
    "\n",
    "fc = arcpy.ListFeatureClasses(feature_type = 'line')\n",
    "\n",
    "#output = r\"C:/Users/hauke/test/bachelor/f/merged.shp\"\n",
    "output = r\"C:\\Users\\hauke\\bacherlor2020\\merged_lines\\merged.shp\"\n",
    "\n",
    "addSourceInfo = \"test\"\n",
    "arcpy.Merge_management(fc, output, addSourceInfo)"
   ]
  },
  {
   "cell_type": "markdown",
   "id": "5ee26db6",
   "metadata": {},
   "source": [
    "   # Buffer merged lines"
   ]
  },
  {
   "cell_type": "code",
   "execution_count": 85,
   "id": "5cd024ac",
   "metadata": {},
   "outputs": [
    {
     "data": {
      "text/html": [
       "<h2>Output</h2>C:\\ProgramData\\Anaconda3\\envs\\KDE\\Default.gdb\\buffer7_5m<h2>Messages</h2>Start Time: lørdag 17. april 2021 10:15:00<br/>Succeeded at lørdag 17. april 2021 10:15:03 (Elapsed Time: 2,39 seconds)<br/><style>.rendered_html td, .rendered_html th {text-align: left;}.rendered_html tbody {border: 1px solid black;}</style>"
      ],
      "text/plain": [
       "<Result 'C:\\\\ProgramData\\\\Anaconda3\\\\envs\\\\KDE\\\\Default.gdb\\\\buffer7_5m'>"
      ]
     },
     "execution_count": 85,
     "metadata": {},
     "output_type": "execute_result"
    }
   ],
   "source": [
    "\n",
    "arcpy.env.workspace = r\"C:/ProgramData/Anaconda3/envs/KDE/default.gdb\"\n",
    "arcpy.env.overwriteOutput = True\n",
    "#output = r\"C:\\Users\\hauke\\bacherlor2020\\merged_lines\\merged.shp\"\n",
    "\n",
    "\n",
    "in_features = output\n",
    "out_feature_class =  r\"C:/ProgramData/Anaconda3/envs/KDE/default.gdb/buffer7_5m\"\n",
    "\n",
    "\n",
    "\n",
    "arcpy.Buffer_analysis(in_features,\n",
    "                      out_feature_class,\n",
    "                      buffer_distance_or_field=\"7 Meters\",\n",
    "                      line_side=\"FULL\",\n",
    "                      line_end_type=\"ROUND\",\n",
    "                      dissolve_option=\"NONE\",\n",
    "                      dissolve_field=[],\n",
    "                      method=\"PLANAR\")"
   ]
  },
  {
   "cell_type": "markdown",
   "id": "2133f0b4",
   "metadata": {},
   "source": [
    "# Aggregate Polygons\n"
   ]
  },
  {
   "cell_type": "code",
   "execution_count": 86,
   "id": "6704059e",
   "metadata": {},
   "outputs": [
    {
     "data": {
      "text/html": [
       "<h2>Output</h2><table><tr><th>id</th><th>value</th></tr><tr><td>0</td><td>C:\\ProgramData\\Anaconda3\\envs\\KDE\\Default.gdb\\buffer3_aggregated</td></tr><tr><td>1</td><td>C:/ProgramData/Anaconda3/envs/KDE/Default.gdb\\yikes</td></tr></table><h2>Messages</h2>Start Time: lørdag 17. april 2021 10:15:03<br/>Finding polygon clusters...<br/>Constructing polygons (non_orthogonal)...<br/>Succeeded at lørdag 17. april 2021 10:15:49 (Elapsed Time: 46,31 seconds)<br/><style>.rendered_html td, .rendered_html th {text-align: left;}.rendered_html tbody {border: 1px solid black;}</style>"
      ],
      "text/plain": [
       "<Result 'C:\\\\ProgramData\\\\Anaconda3\\\\envs\\\\KDE\\\\Default.gdb\\\\buffer3_aggregated'>"
      ]
     },
     "execution_count": 86,
     "metadata": {},
     "output_type": "execute_result"
    }
   ],
   "source": [
    "arcpy.env.workspace = r\"C:/ProgramData/Anaconda3/envs/KDE/default.gdb\"\n",
    "arcpy.env.overwriteOutput = True\n",
    "\n",
    "#buffer = r\"C:/ProgramData/Anaconda3/envs/KDE/default.gdb/buffer4\"\n",
    "buffer = out_feature_class\n",
    "buffer_AggregatePolygons = r\"C:/ProgramData/Anaconda3/envs/KDE/default.gdb/buffer3_aggregated\"\n",
    "buffer_AggregatePolygons_Tbl = \"yikes\"\n",
    "\n",
    "\n",
    "\n",
    "\n",
    "arcpy.cartography.AggregatePolygons(in_features=buffer,\n",
    "                                    out_feature_class=buffer_AggregatePolygons,\n",
    "                                    aggregation_distance=\"20 Meters\",\n",
    "                                    minimum_area=\"0 Unknown\",\n",
    "                                    minimum_hole_size=\"0 Unknown\",\n",
    "                                    orthogonality_option=\"NON_ORTHOGONAL\",\n",
    "                                    barrier_features=[],\n",
    "                                    out_table=buffer_AggregatePolygons_Tbl,\n",
    "                                    aggregate_field=\"\")"
   ]
  },
  {
   "cell_type": "markdown",
   "id": "cb86fd21",
   "metadata": {},
   "source": [
    "# Polygon to Centerline\n"
   ]
  },
  {
   "cell_type": "code",
   "execution_count": 95,
   "id": "341b71dc",
   "metadata": {},
   "outputs": [],
   "source": [
    "\n",
    "inputLyr = r\"C:/ProgramData/Anaconda3/envs/KDE/default.gdb/buffer3_aggregated\"\n",
    "out_feature_class1 = r\"C:/ProgramData/Anaconda3/envs/KDE/default.gdb/centerline_aggregated1\"\n",
    "arcpy.topographic.PolygonToCenterline(inputLyr, out_feature_class1)\n",
    "arcpy.env.overwriteOutput = True"
   ]
  },
  {
   "cell_type": "markdown",
   "id": "1edf8dca",
   "metadata": {},
   "source": [
    "# Trim Lines"
   ]
  },
  {
   "cell_type": "code",
   "execution_count": 96,
   "id": "96d07bf9",
   "metadata": {},
   "outputs": [
    {
     "data": {
      "text/html": [
       "<h2>Output</h2>C:/ProgramData/Anaconda3/envs/KDE/default.gdb/centerline_aggregated1<h2>Messages</h2>Start Time: lørdag 17. april 2021 10:18:12<br/>Reading Features...<br/>Cracking Features...<br/>Assembling Features...<br/>Succeeded at lørdag 17. april 2021 10:18:14 (Elapsed Time: 1,69 seconds)<br/><style>.rendered_html td, .rendered_html th {text-align: left;}.rendered_html tbody {border: 1px solid black;}</style>"
      ],
      "text/plain": [
       "<Result 'C:/ProgramData/Anaconda3/envs/KDE/default.gdb/centerline_aggregated1'>"
      ]
     },
     "execution_count": 96,
     "metadata": {},
     "output_type": "execute_result"
    }
   ],
   "source": [
    "arcpy.TrimLine_edit(out_feature_class1, \"150 Meters\", \"DELETE_SHORT\")"
   ]
  },
  {
   "cell_type": "markdown",
   "id": "120e4a50",
   "metadata": {},
   "source": [
    "# Feature to shape"
   ]
  },
  {
   "cell_type": "code",
   "execution_count": 97,
   "id": "41c68b2f",
   "metadata": {},
   "outputs": [],
   "source": [
    "\n",
    "\n",
    "centerline_aggregated1 = out_feature_class1\n",
    "senterlinje_2_ = r\"C:\\Users\\hauke\\bacherlor2020\\senterlinje\"\n",
    "senterlinje = arcpy.conversion.FeatureClassToShapefile(Input_Features=[centerline_aggregated1],\n",
    "                                                       Output_Folder=senterlinje_2_)\n"
   ]
  },
  {
   "cell_type": "markdown",
   "id": "645de11e",
   "metadata": {},
   "source": [
    "# Featurelayer - GDB(ONLINE)"
   ]
  },
  {
   "cell_type": "code",
   "execution_count": 98,
   "id": "d3a51960",
   "metadata": {},
   "outputs": [
    {
     "name": "stdout",
     "output_type": "stream",
     "text": [
      "Number of .shp files found: 1\n",
      "Logged in as : haakhegr_NTNU_2020\n"
     ]
    },
    {
     "data": {
      "text/plain": [
       "{'success': True}"
      ]
     },
     "execution_count": 98,
     "metadata": {},
     "output_type": "execute_result"
    }
   ],
   "source": [
    "from arcgis.gis import GIS\n",
    "gis = GIS('Home')\n",
    "\n",
    "# path relative to this notebook\n",
    "data_dir = r\"C:\\Users\\hauke\\bacherlor2020\\senterlinje\"\n",
    "\n",
    "#Get list of all files\n",
    "file_list = os.listdir(data_dir)\n",
    "\n",
    "#Filter and get only .sd files\n",
    "sd_file_list = [x for x in file_list if x.endswith(\".shp\")]\n",
    "print(\"Number of .shp files found: \" + str(len(sd_file_list)))\n",
    "\n",
    "\n",
    "\n",
    "#arcgisoneline login\n",
    "gis = GIS('https://ntnu-gis.maps.arcgis.com/', user, password)\n",
    "\n",
    "#variables\n",
    "itemid = '697baf4054c147339c544f0b782e4134'\n",
    "upload_zip = r\"C:\\Users\\hauke\\bacherlor2020\\senterlinje\\sipsip.zip\"\n",
    "dld_path = r'C:\\Users\\hauke\\test\\bachelor\\f'\n",
    "\n",
    "\n",
    "# create a ZipFile object\n",
    "zipObj = ZipFile(r'C:\\Users\\hauke\\bacherlor2020\\senterlinje\\sipsip.zip', 'w')\n",
    "zipObj.write(r\"C:\\Users\\hauke\\bacherlor2020\\senterlinje\\centerline_aggregated1.cpg\")\n",
    "zipObj.write(r\"C:\\Users\\hauke\\bacherlor2020\\senterlinje\\centerline_aggregated1.dbf\")\n",
    "zipObj.write(r\"C:\\Users\\hauke\\bacherlor2020\\senterlinje\\centerline_aggregated1.prj\")\n",
    "zipObj.write(r\"C:\\Users\\hauke\\bacherlor2020\\senterlinje\\centerline_aggregated1.sbn\")\n",
    "zipObj.write(r\"C:\\Users\\hauke\\bacherlor2020\\senterlinje\\centerline_aggregated1.sbx\")\n",
    "zipObj.write(r\"C:\\Users\\hauke\\bacherlor2020\\senterlinje\\centerline_aggregated1.shp\")\n",
    "zipObj.write(r\"C:\\Users\\hauke\\bacherlor2020\\senterlinje\\centerline_aggregated1.shp.xml\")\n",
    "zipObj.write(r\"C:\\Users\\hauke\\bacherlor2020\\senterlinje\\centerline_aggregated1.shx\")\n",
    "zipObj.close()\n",
    "#print login\n",
    "un = gis.properties.user.username\n",
    "print('Logged in as : {}'.format(un))                       \n",
    "\n",
    "#overwrite feature host layer\n",
    "dataitem = gis.content.get(itemid)\n",
    "flc = FeatureLayerCollection.fromitem(dataitem)\n",
    "flc.manager.overwrite(upload_zip)\n",
    "\n",
    "\n",
    "\n"
   ]
  },
  {
   "cell_type": "markdown",
   "id": "c00b0f2d",
   "metadata": {},
   "source": [
    "# remove shapefiles"
   ]
  },
  {
   "cell_type": "code",
   "execution_count": 99,
   "id": "edad7b38",
   "metadata": {},
   "outputs": [],
   "source": [
    "os.remove(r\"C:\\Users\\hauke\\bacherlor2020\\senterlinje\\centerline_aggregated1.cpg\")\n",
    "os.remove(r\"C:\\Users\\hauke\\bacherlor2020\\senterlinje\\centerline_aggregated1.dbf\")\n",
    "os.remove(r\"C:\\Users\\hauke\\bacherlor2020\\senterlinje\\centerline_aggregated1.prj\")\n",
    "os.remove(r\"C:\\Users\\hauke\\bacherlor2020\\senterlinje\\centerline_aggregated1.sbn\")\n",
    "os.remove(r\"C:\\Users\\hauke\\bacherlor2020\\senterlinje\\centerline_aggregated1.sbx\")\n",
    "os.remove(r\"C:\\Users\\hauke\\bacherlor2020\\senterlinje\\centerline_aggregated1.shp\")\n",
    "os.remove(r\"C:\\Users\\hauke\\bacherlor2020\\senterlinje\\centerline_aggregated1.shp.xml\")\n",
    "os.remove(r\"C:\\Users\\hauke\\bacherlor2020\\senterlinje\\centerline_aggregated1.shx\")"
   ]
  }
 ],
 "metadata": {
  "kernelspec": {
   "display_name": "Python 3",
   "language": "python",
   "name": "python3"
  },
  "language_info": {
   "codemirror_mode": {
    "name": "ipython",
    "version": 3
   },
   "file_extension": ".py",
   "mimetype": "text/x-python",
   "name": "python",
   "nbconvert_exporter": "python",
   "pygments_lexer": "ipython3",
   "version": "3.7.9"
  }
 },
 "nbformat": 4,
 "nbformat_minor": 5
}
